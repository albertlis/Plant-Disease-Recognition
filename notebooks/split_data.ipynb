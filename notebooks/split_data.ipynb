{
 "cells": [
  {
   "cell_type": "code",
   "execution_count": 18,
   "metadata": {
    "collapsed": true
   },
   "outputs": [],
   "source": [
    "import os\n",
    "\n",
    "base_path = r'D:\\Inne\\Materialy\\Magisterskie\\Praca magisterska\\Plant_disease_recognition\\data\\segmented'\n",
    "train_path = os.path.join(base_path, 'train')\n",
    "val_path = os.path.join(base_path, 'val')\n",
    "test_path = os.path.join(base_path, 'test')"
   ]
  },
  {
   "cell_type": "code",
   "execution_count": 19,
   "outputs": [],
   "source": [
    "from random import shuffle\n",
    "import shutil\n",
    "\n",
    "folder_names = os.listdir(train_path)\n",
    "for folder_name in folder_names:\n",
    "    train_current_path = os.path.join(train_path, folder_name)\n",
    "    val_current_path = os.path.join(val_path, folder_name)\n",
    "    test_current_path = os.path.join(test_path, folder_name)\n",
    "    if not os.path.exists(val_current_path):\n",
    "        os.makedirs(val_current_path)\n",
    "    if not os.path.exists(test_current_path):\n",
    "        os.makedirs(test_current_path)\n",
    "    images_names = os.listdir(train_current_path)\n",
    "    shuffle(images_names)\n",
    "    nr_of_images = len(images_names)\n",
    "    nr_of_val_images = int(nr_of_images * 0.07)\n",
    "    nr_of_test_images = int(nr_of_images * 0.03)\n",
    "    images_names, val_images_names = images_names[:-nr_of_val_images], images_names[nr_of_images - nr_of_val_images :]\n",
    "\n",
    "    for image_name in val_images_names:\n",
    "        train_image_path = os.path.join(train_current_path, image_name)\n",
    "        val_image_path = os.path.join(val_current_path, image_name)\n",
    "        shutil.move(train_image_path, val_image_path)\n",
    "\n",
    "    nr_of_images = len(os.listdir(train_current_path))\n",
    "    images_names, test_images_names = images_names[: -nr_of_test_images], images_names[nr_of_images - nr_of_test_images :]\n",
    "    for image_name in test_images_names:\n",
    "        train_image_path = os.path.join(train_current_path, image_name)\n",
    "        test_image_path = os.path.join(test_current_path, image_name)\n",
    "        shutil.move(train_image_path, test_image_path)\n"
   ],
   "metadata": {
    "collapsed": false,
    "pycharm": {
     "name": "#%%\n"
    }
   }
  }
 ],
 "metadata": {
  "kernelspec": {
   "display_name": "Python 3",
   "language": "python",
   "name": "python3"
  },
  "language_info": {
   "codemirror_mode": {
    "name": "ipython",
    "version": 2
   },
   "file_extension": ".py",
   "mimetype": "text/x-python",
   "name": "python",
   "nbconvert_exporter": "python",
   "pygments_lexer": "ipython2",
   "version": "2.7.6"
  }
 },
 "nbformat": 4,
 "nbformat_minor": 0
}