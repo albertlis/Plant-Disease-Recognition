{
 "cells": [
  {
   "cell_type": "code",
   "execution_count": 1,
   "metadata": {
    "collapsed": true
   },
   "outputs": [
    {
     "name": "stdout",
     "output_type": "stream",
     "text": [
      "Apple - Apple scab\n",
      "Apple - Black rot\n",
      "Apple - Cedar apple rust\n",
      "Apple - healthy\n",
      "Blueberry - healthy\n",
      "Cherry (including sour) - healthy\n",
      "Cherry (including sour) - Powdery mildew\n",
      "Corn (maize) - Cercospora leaf spot Gray leaf spot\n",
      "Corn (maize) - Common rust \n",
      "Corn (maize) - healthy\n",
      "Corn (maize) - Northern Leaf Blight\n",
      "Grape - Black rot\n",
      "Grape - Esca (Black Measles)\n",
      "Grape - healthy\n",
      "Grape - Leaf blight (Isariopsis Leaf Spot)\n",
      "Orange - Haunglongbing (Citrus greening)\n",
      "Peach - Bacterial spot\n",
      "Peach - healthy\n",
      "Pepper, bell - Bacterial spot\n",
      "Pepper, bell - healthy\n",
      "Potato - Early blight\n",
      "Potato - healthy\n",
      "Potato - Late blight\n",
      "Raspberry - healthy\n",
      "Soybean - healthy\n",
      "Squash - Powdery mildew\n",
      "Strawberry - healthy\n",
      "Strawberry - Leaf scorch\n",
      "Tomato - Bacterial spot\n",
      "Tomato - Early blight\n",
      "Tomato - healthy\n",
      "Tomato - Late blight\n",
      "Tomato - Leaf Mold\n",
      "Tomato - Septoria leaf spot\n",
      "Tomato - Spider mites Two-spotted spider mite\n",
      "Tomato - Target Spot\n",
      "Tomato - Tomato mosaic virus\n",
      "Tomato - Tomato Yellow Leaf Curl Virus\n"
     ]
    }
   ],
   "source": [
    "import os\n",
    "\n",
    "basedir = '../data/segmented'\n",
    "for element in os.listdir(basedir):\n",
    "    if not os.path.isdir(os.path.join(basedir, element)):\n",
    "        continue # Not a directory\n",
    "    new_name = element.replace('___', ' - ')\n",
    "    new_name = new_name.replace('_', ' ')\n",
    "    print(new_name)\n",
    "    os.rename(os.path.join(basedir, element), os.path.join(basedir, new_name))"
   ]
  }
 ],
 "metadata": {
  "kernelspec": {
   "display_name": "Python 3",
   "language": "python",
   "name": "python3"
  },
  "language_info": {
   "codemirror_mode": {
    "name": "ipython",
    "version": 2
   },
   "file_extension": ".py",
   "mimetype": "text/x-python",
   "name": "python",
   "nbconvert_exporter": "python",
   "pygments_lexer": "ipython2",
   "version": "2.7.6"
  }
 },
 "nbformat": 4,
 "nbformat_minor": 0
}